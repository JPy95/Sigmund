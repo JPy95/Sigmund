{
 "cells": [
  {
   "cell_type": "markdown",
   "metadata": {},
   "source": [
    "## Projeto de Machine Learning Sigmund"
   ]
  },
  {
   "cell_type": "code",
   "execution_count": 1,
   "metadata": {},
   "outputs": [
    {
     "data": {
      "text/html": [
       "<img src=\"images/processo.png\"/>"
      ],
      "text/plain": [
       "<IPython.core.display.Image object>"
      ]
     },
     "execution_count": 1,
     "metadata": {},
     "output_type": "execute_result"
    }
   ],
   "source": [
    "from IPython.display import Image\n",
    "Image(url = 'images/processo.png')"
   ]
  },
  {
   "cell_type": "markdown",
   "metadata": {},
   "source": [
    "## Etapas do Projeto:\n",
    "\n",
    "#### Pré processamento:\n",
    "* **Feature Selection:** Onde selecionamos os atributos que serão melhores candidatos a variáveis preditoras. O *Feature Selection* nos ajuda a reduzir o overfiting (quando o algoritmo aprende mais que o necessario), aumenta a acuracia do modelo e reduz o tempo de treinamento. Por isto, vamos testar dois metodos de *Feature Selection* a **Eliminação Recursiva** e **Metodo Ensemble** para a seleção destas variaveis.\n",
    "\n",
    "#### Aprendizado e Avaliação:\n",
    "* **Métricas de Performance:** Pesquisar a melhor metrica de performance para algoritmos de clusterização;\n",
    "* **Cross-Validation:** Com está tecnica dividiremos os dados em partes normalmente chamadas de **k-folds**(por exemplo k=5 ou k=10), sendo que cada fold é usado no treinamento de forma repetida, um fold por vez. Após executar o processo, podemos então sumarizar a performance em cada fold usando a média e o seu desvio padrão. A chave deste processo está em definir o valor correto de **k**, de modo que o número de folds represente adequadamente o número de repetições necessarias;\n",
    "* **Seleção do Modelo:** Com base ao problema proposto neste projeto vamos testar qual o melhor algortimo de clusterização tendo como base a melhor métrica de performance;\n",
    "* **Otimização:** Todos os algoritmos de ML são parametrizados, por isto, devemos encontrar a melhor combinação entre os parametros em cada algoritmo. Esse processo também é chamado de Otimização de Hyperparametros, neste projeto iremos utilizar o Grid Search Parameter Tuning;\n",
    "\n",
    "#### Previsão:\n",
    "* Realizar teste com nova base."
   ]
  },
  {
   "cell_type": "code",
   "execution_count": 4,
   "metadata": {},
   "outputs": [
    {
     "data": {
      "text/html": [
       "<img src=\"images/cross-validation.jpg\"/>"
      ],
      "text/plain": [
       "<IPython.core.display.Image object>"
      ]
     },
     "execution_count": 4,
     "metadata": {},
     "output_type": "execute_result"
    }
   ],
   "source": [
    "from IPython.display import Image\n",
    "Image(url = 'images/cross-validation.jpg')"
   ]
  },
  {
   "cell_type": "markdown",
   "metadata": {},
   "source": [
    "## Inicio do Processo"
   ]
  },
  {
   "cell_type": "code",
   "execution_count": null,
   "metadata": {},
   "outputs": [],
   "source": []
  }
 ],
 "metadata": {
  "kernelspec": {
   "display_name": "Python 3",
   "language": "python",
   "name": "python3"
  },
  "language_info": {
   "codemirror_mode": {
    "name": "ipython",
    "version": 3
   },
   "file_extension": ".py",
   "mimetype": "text/x-python",
   "name": "python",
   "nbconvert_exporter": "python",
   "pygments_lexer": "ipython3",
   "version": "3.7.4"
  }
 },
 "nbformat": 4,
 "nbformat_minor": 2
}
