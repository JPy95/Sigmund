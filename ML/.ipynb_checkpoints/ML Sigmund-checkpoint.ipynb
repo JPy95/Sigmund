{
 "cells": [
  {
   "cell_type": "markdown",
   "metadata": {},
   "source": [
    "## Projeto de Machine Learning Sigmund"
   ]
  },
  {
   "cell_type": "code",
   "execution_count": 1,
   "metadata": {},
   "outputs": [
    {
     "data": {
      "text/html": [
       "<img src=\"images/processo.png\"/>"
      ],
      "text/plain": [
       "<IPython.core.display.Image object>"
      ]
     },
     "execution_count": 1,
     "metadata": {},
     "output_type": "execute_result"
    }
   ],
   "source": [
    "from IPython.display import Image\n",
    "Image(url = 'images/processo.png')"
   ]
  },
  {
   "cell_type": "markdown",
   "metadata": {},
   "source": [
    "## Etapas do Projeto:\n",
    "\n",
    "#### Pré processamento:\n",
    "* **Validação da Base**: Verificar se as classificações estão corretas.\n",
    "* **Transformação das Variáveis:** transformar a classificação que esta no tipo string para inteiro utilizando a seguinte ordem: {1: 'Analista', 2: 'Comunidador', 3: 'Planejador', 4: 'Executor'}\n",
    "* **Balanceamento dos Dados:** Em problemas de classificação pode ser necessário balancear as classes. Classes desbalanceadas (ou seja, volume maior de um dos tipos das classes) são comuns e precisam ser tratadas durante a fase de pré-processamento, assim evita o algoritmo aprender mais sobre uma classificação.\n",
    "* **Feature Selection:** Onde selecionamos os atributos que serão melhores candidatos a variáveis preditoras. O *Feature Selection* nos ajuda a reduzir o overfiting (quando o algoritmo aprende mais que o necessario), aumenta a acuracia do modelo e reduz o tempo de treinamento. Por isto, vamos testar dois metodos de *Feature Selection* a **Eliminação Recursiva** e **Metodo Ensemble** para a seleção destas variaveis.\n",
    "\n",
    "#### Aprendizado e Avaliação:\n",
    "* **Métricas de Performance:** Pesquisar a melhor metrica de performance para algoritmos de clusterização;\n",
    "* **Cross-Validation:** Com está tecnica dividiremos os dados em partes normalmente chamadas de **k-folds**(por exemplo k=5 ou k=10), sendo que cada fold é usado no treinamento de forma repetida, um fold por vez. Após executar o processo, podemos então sumarizar a performance em cada fold usando a média e o seu desvio padrão. A chave deste processo está em definir o valor correto de **k**, de modo que o número de folds represente adequadamente o número de repetições necessarias;\n",
    "* **Seleção do Modelo:** Com base ao problema proposto neste projeto vamos testar qual o melhor algortimo de clusterização tendo como base a melhor métrica de performance;\n",
    "* **Otimização:** Todos os algoritmos de ML são parametrizados, por isto, devemos encontrar a melhor combinação entre os parametros em cada algoritmo. Esse processo também é chamado de Otimização de Hyperparametros, neste projeto iremos utilizar o Grid Search Parameter Tuning;\n",
    "\n",
    "#### Previsão:\n",
    "* Realizar teste com nova base."
   ]
  },
  {
   "cell_type": "code",
   "execution_count": 2,
   "metadata": {},
   "outputs": [
    {
     "data": {
      "text/html": [
       "<img src=\"images/cross-validation.jpg\"/>"
      ],
      "text/plain": [
       "<IPython.core.display.Image object>"
      ]
     },
     "execution_count": 2,
     "metadata": {},
     "output_type": "execute_result"
    }
   ],
   "source": [
    "from IPython.display import Image\n",
    "Image(url = 'images/cross-validation.jpg')"
   ]
  },
  {
   "cell_type": "markdown",
   "metadata": {},
   "source": [
    "## Inicio do Processo"
   ]
  },
  {
   "cell_type": "markdown",
   "metadata": {},
   "source": [
    "##### Análise exploratoria, Validação e Transformação de Variáveis"
   ]
  },
  {
   "cell_type": "code",
   "execution_count": 125,
   "metadata": {},
   "outputs": [],
   "source": [
    "import pandas as pd\n",
    "import numpy as np\n",
    "import operator\n",
    "import matplotlib.pyplot as plt\n",
    "import warnings\n",
    "warnings.filterwarnings(\"ignore\")\n",
    "%matplotlib inline"
   ]
  },
  {
   "cell_type": "code",
   "execution_count": 4,
   "metadata": {},
   "outputs": [],
   "source": [
    "base = pd.read_excel('coleta_dados.xlsx')"
   ]
  },
  {
   "cell_type": "code",
   "execution_count": 7,
   "metadata": {},
   "outputs": [
    {
     "data": {
      "text/plain": [
       "array(['Executor', 'Comunicador', 'Analista'], dtype=object)"
      ]
     },
     "execution_count": 7,
     "metadata": {},
     "output_type": "execute_result"
    }
   ],
   "source": [
    "#Corrigir classificação. Pois durante a coleta de dados a classificação não foi executada corretamente.\n",
    "base['classificacao'].unique()"
   ]
  },
  {
   "cell_type": "code",
   "execution_count": 32,
   "metadata": {},
   "outputs": [],
   "source": [
    "resultQuest = {}\n",
    "classification = []\n",
    "for i in range(0,len(base)):\n",
    "    quest = list(base.iloc[i,:])\n",
    "    \n",
    "    resultQuest[1] = quest.count(1)*4\n",
    "    resultQuest[2] = quest.count(2)*4\n",
    "    resultQuest[3] = quest.count(3)*4\n",
    "    resultQuest[4] = quest.count(4)*4\n",
    "    \n",
    "    classification.append(max(resultQuest.items(), key=operator.itemgetter(1))[0])\n",
    "base['classificacao'] = classification\n",
    "#Salvando base corrigida\n",
    "base.to_excel('AvaliacaoDisc.xlsx', index=False)"
   ]
  },
  {
   "cell_type": "markdown",
   "metadata": {},
   "source": [
    "##### Balanceando os dados"
   ]
  },
  {
   "cell_type": "code",
   "execution_count": 100,
   "metadata": {},
   "outputs": [],
   "source": [
    "#importando nova base\n",
    "base = pd.read_excel('AvaliacaoDisc.xlsx')"
   ]
  },
  {
   "cell_type": "code",
   "execution_count": 101,
   "metadata": {},
   "outputs": [
    {
     "data": {
      "image/png": "[encoded data removed]",
      "text/plain": [
       "<Figure size 432x288 with 1 Axes>"
      ]
     },
     "metadata": {
      "needs_background": "light"
     },
     "output_type": "display_data"
    }
   ],
   "source": [
    "x = base.groupby('classificacao').size().index\n",
    "\n",
    "plt.bar(x, base.groupby('classificacao').size())\n",
    "plt.xticks(x, (1, 2, 3, 4))\n",
    "plt.show()"
   ]
  },
  {
   "cell_type": "code",
   "execution_count": 102,
   "metadata": {
    "scrolled": true
   },
   "outputs": [
    {
     "data": {
      "image/png": "[encoded data removed]",
      "text/plain": [
       "<Figure size 432x288 with 1 Axes>"
      ]
     },
     "metadata": {
      "needs_background": "light"
     },
     "output_type": "display_data"
    }
   ],
   "source": [
    "#Balanciamento\n",
    "qty_total = len(base[base['classificacao'] == 4])\n",
    "\n",
    "dados = base[base['classificacao']==1].iloc[:qty_total,:]\n",
    "dados = dados.append(base[base['classificacao']==2].iloc[:qty_total,:], ignore_index=True)\n",
    "dados = dados.append(base[base['classificacao']==3].iloc[:qty_total,:], ignore_index=True)\n",
    "dados = dados.append(base[base['classificacao']==4].iloc[:qty_total,:], ignore_index=True)\n",
    "\n",
    "x = dados.groupby('classificacao').size().index\n",
    "\n",
    "plt.bar(x, dados.groupby('classificacao').size())\n",
    "plt.xticks(x, (1, 2, 3, 4))\n",
    "plt.show()"
   ]
  },
  {
   "cell_type": "code",
   "execution_count": 104,
   "metadata": {},
   "outputs": [
    {
     "data": {
      "text/plain": [
       "(48792, 26)"
      ]
     },
     "execution_count": 104,
     "metadata": {},
     "output_type": "execute_result"
    }
   ],
   "source": [
    "dados.shape"
   ]
  },
  {
   "cell_type": "markdown",
   "metadata": {},
   "source": [
    "### Feature Selections"
   ]
  },
  {
   "cell_type": "markdown",
   "metadata": {},
   "source": [
    "##### Método Ensemble\n",
    "\n",
    "https://scikit-learn.org/stable/modules/generated/sklearn.ensemble.ExtraTreesClassifier.html\n",
    "\n",
    "Bagged Decision Trees, como o algoritmo RandomForest (esses são chamados de Métodos Ensemble), podem ser usados para estimar a importância de cada atributo. Esse método retorna um score para cada atributo. Quanto maior o score, maior a importância do atributo."
   ]
  },
  {
   "cell_type": "code",
   "execution_count": 369,
   "metadata": {
    "scrolled": true
   },
   "outputs": [
    {
     "name": "stdout",
     "output_type": "stream",
     "text": [
      "Index(['resp1', 'resp2', 'resp3', 'resp4', 'resp5', 'resp6', 'resp7', 'resp8',\n",
      "       'resp9', 'resp10', 'resp11', 'resp12', 'resp13', 'resp14', 'resp15',\n",
      "       'resp16', 'resp17', 'resp18', 'resp19', 'resp20', 'resp21', 'resp22',\n",
      "       'resp23', 'resp24', 'resp25'],\n",
      "      dtype='object')\n",
      "[0.03958391 0.04122752 0.03914939 0.03984352 0.03959177 0.04127195\n",
      " 0.04026121 0.0405679  0.03858931 0.04068279 0.04101238 0.04010423\n",
      " 0.03791159 0.03927778 0.03989334 0.04065998 0.03980503 0.0398758\n",
      " 0.04137956 0.04047114 0.04040663 0.04242403 0.04017543 0.03893588\n",
      " 0.03689793]\n"
     ]
    }
   ],
   "source": [
    "# Import dos Módulos\n",
    "from pandas import read_csv\n",
    "from sklearn.ensemble import ExtraTreesClassifier\n",
    "\n",
    "values = dados.values\n",
    "\n",
    "# Separando o array em componentes de input e output\n",
    "X = values[:,:25]\n",
    "Y = values[:,25]\n",
    "\n",
    "# Criação do Modelo - Feature Selection\n",
    "modelo = ExtraTreesClassifier()\n",
    "modelo.fit(X, Y)\n",
    "\n",
    "# Melhores variaveis\n",
    "print(dados.columns[:25])\n",
    "print(modelo.feature_importances_)"
   ]
  },
  {
   "cell_type": "code",
   "execution_count": 380,
   "metadata": {},
   "outputs": [
    {
     "data": {
      "text/html": [
       "<div>\n",
       "<style scoped>\n",
       "    .dataframe tbody tr th:only-of-type {\n",
       "        vertical-align: middle;\n",
       "    }\n",
       "\n",
       "    .dataframe tbody tr th {\n",
       "        vertical-align: top;\n",
       "    }\n",
       "\n",
       "    .dataframe thead th {\n",
       "        text-align: right;\n",
       "    }\n",
       "</style>\n",
       "<table border=\"1\" class=\"dataframe\">\n",
       "  <thead>\n",
       "    <tr style=\"text-align: right;\">\n",
       "      <th></th>\n",
       "      <th>resp2</th>\n",
       "      <th>resp6</th>\n",
       "      <th>resp8</th>\n",
       "      <th>resp10</th>\n",
       "      <th>resp11</th>\n",
       "      <th>resp16</th>\n",
       "      <th>resp19</th>\n",
       "      <th>resp20</th>\n",
       "      <th>resp21</th>\n",
       "      <th>resp22</th>\n",
       "      <th>classificacao</th>\n",
       "    </tr>\n",
       "  </thead>\n",
       "  <tbody>\n",
       "    <tr>\n",
       "      <td>0</td>\n",
       "      <td>1</td>\n",
       "      <td>3</td>\n",
       "      <td>1</td>\n",
       "      <td>3</td>\n",
       "      <td>3</td>\n",
       "      <td>1</td>\n",
       "      <td>2</td>\n",
       "      <td>4</td>\n",
       "      <td>1</td>\n",
       "      <td>2</td>\n",
       "      <td>1</td>\n",
       "    </tr>\n",
       "    <tr>\n",
       "      <td>1</td>\n",
       "      <td>1</td>\n",
       "      <td>1</td>\n",
       "      <td>4</td>\n",
       "      <td>1</td>\n",
       "      <td>4</td>\n",
       "      <td>4</td>\n",
       "      <td>3</td>\n",
       "      <td>2</td>\n",
       "      <td>2</td>\n",
       "      <td>1</td>\n",
       "      <td>1</td>\n",
       "    </tr>\n",
       "    <tr>\n",
       "      <td>2</td>\n",
       "      <td>1</td>\n",
       "      <td>1</td>\n",
       "      <td>4</td>\n",
       "      <td>4</td>\n",
       "      <td>4</td>\n",
       "      <td>2</td>\n",
       "      <td>4</td>\n",
       "      <td>2</td>\n",
       "      <td>4</td>\n",
       "      <td>2</td>\n",
       "      <td>1</td>\n",
       "    </tr>\n",
       "    <tr>\n",
       "      <td>3</td>\n",
       "      <td>3</td>\n",
       "      <td>4</td>\n",
       "      <td>4</td>\n",
       "      <td>3</td>\n",
       "      <td>4</td>\n",
       "      <td>4</td>\n",
       "      <td>2</td>\n",
       "      <td>2</td>\n",
       "      <td>2</td>\n",
       "      <td>2</td>\n",
       "      <td>1</td>\n",
       "    </tr>\n",
       "    <tr>\n",
       "      <td>4</td>\n",
       "      <td>1</td>\n",
       "      <td>1</td>\n",
       "      <td>2</td>\n",
       "      <td>1</td>\n",
       "      <td>4</td>\n",
       "      <td>1</td>\n",
       "      <td>2</td>\n",
       "      <td>1</td>\n",
       "      <td>2</td>\n",
       "      <td>1</td>\n",
       "      <td>1</td>\n",
       "    </tr>\n",
       "    <tr>\n",
       "      <td>...</td>\n",
       "      <td>...</td>\n",
       "      <td>...</td>\n",
       "      <td>...</td>\n",
       "      <td>...</td>\n",
       "      <td>...</td>\n",
       "      <td>...</td>\n",
       "      <td>...</td>\n",
       "      <td>...</td>\n",
       "      <td>...</td>\n",
       "      <td>...</td>\n",
       "      <td>...</td>\n",
       "    </tr>\n",
       "    <tr>\n",
       "      <td>48787</td>\n",
       "      <td>2</td>\n",
       "      <td>2</td>\n",
       "      <td>4</td>\n",
       "      <td>1</td>\n",
       "      <td>4</td>\n",
       "      <td>3</td>\n",
       "      <td>2</td>\n",
       "      <td>4</td>\n",
       "      <td>4</td>\n",
       "      <td>4</td>\n",
       "      <td>4</td>\n",
       "    </tr>\n",
       "    <tr>\n",
       "      <td>48788</td>\n",
       "      <td>1</td>\n",
       "      <td>2</td>\n",
       "      <td>2</td>\n",
       "      <td>3</td>\n",
       "      <td>3</td>\n",
       "      <td>2</td>\n",
       "      <td>4</td>\n",
       "      <td>4</td>\n",
       "      <td>4</td>\n",
       "      <td>4</td>\n",
       "      <td>4</td>\n",
       "    </tr>\n",
       "    <tr>\n",
       "      <td>48789</td>\n",
       "      <td>4</td>\n",
       "      <td>2</td>\n",
       "      <td>1</td>\n",
       "      <td>3</td>\n",
       "      <td>1</td>\n",
       "      <td>4</td>\n",
       "      <td>2</td>\n",
       "      <td>4</td>\n",
       "      <td>2</td>\n",
       "      <td>2</td>\n",
       "      <td>4</td>\n",
       "    </tr>\n",
       "    <tr>\n",
       "      <td>48790</td>\n",
       "      <td>3</td>\n",
       "      <td>4</td>\n",
       "      <td>3</td>\n",
       "      <td>1</td>\n",
       "      <td>1</td>\n",
       "      <td>3</td>\n",
       "      <td>3</td>\n",
       "      <td>2</td>\n",
       "      <td>4</td>\n",
       "      <td>4</td>\n",
       "      <td>4</td>\n",
       "    </tr>\n",
       "    <tr>\n",
       "      <td>48791</td>\n",
       "      <td>4</td>\n",
       "      <td>2</td>\n",
       "      <td>4</td>\n",
       "      <td>4</td>\n",
       "      <td>4</td>\n",
       "      <td>4</td>\n",
       "      <td>2</td>\n",
       "      <td>1</td>\n",
       "      <td>1</td>\n",
       "      <td>2</td>\n",
       "      <td>4</td>\n",
       "    </tr>\n",
       "  </tbody>\n",
       "</table>\n",
       "<p>48792 rows × 11 columns</p>\n",
       "</div>"
      ],
      "text/plain": [
       "       resp2  resp6  resp8  resp10  resp11  resp16  resp19  resp20  resp21  \\\n",
       "0          1      3      1       3       3       1       2       4       1   \n",
       "1          1      1      4       1       4       4       3       2       2   \n",
       "2          1      1      4       4       4       2       4       2       4   \n",
       "3          3      4      4       3       4       4       2       2       2   \n",
       "4          1      1      2       1       4       1       2       1       2   \n",
       "...      ...    ...    ...     ...     ...     ...     ...     ...     ...   \n",
       "48787      2      2      4       1       4       3       2       4       4   \n",
       "48788      1      2      2       3       3       2       4       4       4   \n",
       "48789      4      2      1       3       1       4       2       4       2   \n",
       "48790      3      4      3       1       1       3       3       2       4   \n",
       "48791      4      2      4       4       4       4       2       1       1   \n",
       "\n",
       "       resp22  classificacao  \n",
       "0           2              1  \n",
       "1           1              1  \n",
       "2           2              1  \n",
       "3           2              1  \n",
       "4           1              1  \n",
       "...       ...            ...  \n",
       "48787       4              4  \n",
       "48788       4              4  \n",
       "48789       2              4  \n",
       "48790       4              4  \n",
       "48791       2              4  \n",
       "\n",
       "[48792 rows x 11 columns]"
      ]
     },
     "execution_count": 380,
     "metadata": {},
     "output_type": "execute_result"
    }
   ],
   "source": [
    "dadosFS = dados[dados.columns[np.where(modelo.feature_importances_ >= 0.0404)]]\n",
    "dadosFS['classificacao'] = dados['classificacao']\n",
    "dadosFS"
   ]
  },
  {
   "cell_type": "code",
   "execution_count": 394,
   "metadata": {},
   "outputs": [
    {
     "data": {
      "text/html": [
       "<div>\n",
       "<style scoped>\n",
       "    .dataframe tbody tr th:only-of-type {\n",
       "        vertical-align: middle;\n",
       "    }\n",
       "\n",
       "    .dataframe tbody tr th {\n",
       "        vertical-align: top;\n",
       "    }\n",
       "\n",
       "    .dataframe thead th {\n",
       "        text-align: right;\n",
       "    }\n",
       "</style>\n",
       "<table border=\"1\" class=\"dataframe\">\n",
       "  <thead>\n",
       "    <tr style=\"text-align: right;\">\n",
       "      <th></th>\n",
       "      <th>resp2</th>\n",
       "      <th>resp6</th>\n",
       "      <th>resp8</th>\n",
       "      <th>resp10</th>\n",
       "      <th>resp11</th>\n",
       "      <th>resp16</th>\n",
       "      <th>resp19</th>\n",
       "      <th>resp20</th>\n",
       "      <th>resp21</th>\n",
       "      <th>resp22</th>\n",
       "      <th>classificacao</th>\n",
       "      <th>classificacao1</th>\n",
       "    </tr>\n",
       "  </thead>\n",
       "  <tbody>\n",
       "    <tr>\n",
       "      <td>0</td>\n",
       "      <td>1</td>\n",
       "      <td>3</td>\n",
       "      <td>1</td>\n",
       "      <td>3</td>\n",
       "      <td>3</td>\n",
       "      <td>1</td>\n",
       "      <td>2</td>\n",
       "      <td>4</td>\n",
       "      <td>1</td>\n",
       "      <td>2</td>\n",
       "      <td>1</td>\n",
       "      <td>1</td>\n",
       "    </tr>\n",
       "    <tr>\n",
       "      <td>1</td>\n",
       "      <td>1</td>\n",
       "      <td>1</td>\n",
       "      <td>4</td>\n",
       "      <td>1</td>\n",
       "      <td>4</td>\n",
       "      <td>4</td>\n",
       "      <td>3</td>\n",
       "      <td>2</td>\n",
       "      <td>2</td>\n",
       "      <td>1</td>\n",
       "      <td>1</td>\n",
       "      <td>1</td>\n",
       "    </tr>\n",
       "    <tr>\n",
       "      <td>2</td>\n",
       "      <td>1</td>\n",
       "      <td>1</td>\n",
       "      <td>4</td>\n",
       "      <td>4</td>\n",
       "      <td>4</td>\n",
       "      <td>2</td>\n",
       "      <td>4</td>\n",
       "      <td>2</td>\n",
       "      <td>4</td>\n",
       "      <td>2</td>\n",
       "      <td>1</td>\n",
       "      <td>4</td>\n",
       "    </tr>\n",
       "    <tr>\n",
       "      <td>3</td>\n",
       "      <td>3</td>\n",
       "      <td>4</td>\n",
       "      <td>4</td>\n",
       "      <td>3</td>\n",
       "      <td>4</td>\n",
       "      <td>4</td>\n",
       "      <td>2</td>\n",
       "      <td>2</td>\n",
       "      <td>2</td>\n",
       "      <td>2</td>\n",
       "      <td>1</td>\n",
       "      <td>2</td>\n",
       "    </tr>\n",
       "    <tr>\n",
       "      <td>4</td>\n",
       "      <td>1</td>\n",
       "      <td>1</td>\n",
       "      <td>2</td>\n",
       "      <td>1</td>\n",
       "      <td>4</td>\n",
       "      <td>1</td>\n",
       "      <td>2</td>\n",
       "      <td>1</td>\n",
       "      <td>2</td>\n",
       "      <td>1</td>\n",
       "      <td>1</td>\n",
       "      <td>1</td>\n",
       "    </tr>\n",
       "    <tr>\n",
       "      <td>...</td>\n",
       "      <td>...</td>\n",
       "      <td>...</td>\n",
       "      <td>...</td>\n",
       "      <td>...</td>\n",
       "      <td>...</td>\n",
       "      <td>...</td>\n",
       "      <td>...</td>\n",
       "      <td>...</td>\n",
       "      <td>...</td>\n",
       "      <td>...</td>\n",
       "      <td>...</td>\n",
       "      <td>...</td>\n",
       "    </tr>\n",
       "    <tr>\n",
       "      <td>48787</td>\n",
       "      <td>2</td>\n",
       "      <td>2</td>\n",
       "      <td>4</td>\n",
       "      <td>1</td>\n",
       "      <td>4</td>\n",
       "      <td>3</td>\n",
       "      <td>2</td>\n",
       "      <td>4</td>\n",
       "      <td>4</td>\n",
       "      <td>4</td>\n",
       "      <td>4</td>\n",
       "      <td>4</td>\n",
       "    </tr>\n",
       "    <tr>\n",
       "      <td>48788</td>\n",
       "      <td>1</td>\n",
       "      <td>2</td>\n",
       "      <td>2</td>\n",
       "      <td>3</td>\n",
       "      <td>3</td>\n",
       "      <td>2</td>\n",
       "      <td>4</td>\n",
       "      <td>4</td>\n",
       "      <td>4</td>\n",
       "      <td>4</td>\n",
       "      <td>4</td>\n",
       "      <td>4</td>\n",
       "    </tr>\n",
       "    <tr>\n",
       "      <td>48789</td>\n",
       "      <td>4</td>\n",
       "      <td>2</td>\n",
       "      <td>1</td>\n",
       "      <td>3</td>\n",
       "      <td>1</td>\n",
       "      <td>4</td>\n",
       "      <td>2</td>\n",
       "      <td>4</td>\n",
       "      <td>2</td>\n",
       "      <td>2</td>\n",
       "      <td>4</td>\n",
       "      <td>2</td>\n",
       "    </tr>\n",
       "    <tr>\n",
       "      <td>48790</td>\n",
       "      <td>3</td>\n",
       "      <td>4</td>\n",
       "      <td>3</td>\n",
       "      <td>1</td>\n",
       "      <td>1</td>\n",
       "      <td>3</td>\n",
       "      <td>3</td>\n",
       "      <td>2</td>\n",
       "      <td>4</td>\n",
       "      <td>4</td>\n",
       "      <td>4</td>\n",
       "      <td>3</td>\n",
       "    </tr>\n",
       "    <tr>\n",
       "      <td>48791</td>\n",
       "      <td>4</td>\n",
       "      <td>2</td>\n",
       "      <td>4</td>\n",
       "      <td>4</td>\n",
       "      <td>4</td>\n",
       "      <td>4</td>\n",
       "      <td>2</td>\n",
       "      <td>1</td>\n",
       "      <td>1</td>\n",
       "      <td>2</td>\n",
       "      <td>4</td>\n",
       "      <td>4</td>\n",
       "    </tr>\n",
       "  </tbody>\n",
       "</table>\n",
       "<p>48792 rows × 12 columns</p>\n",
       "</div>"
      ],
      "text/plain": [
       "       resp2  resp6  resp8  resp10  resp11  resp16  resp19  resp20  resp21  \\\n",
       "0          1      3      1       3       3       1       2       4       1   \n",
       "1          1      1      4       1       4       4       3       2       2   \n",
       "2          1      1      4       4       4       2       4       2       4   \n",
       "3          3      4      4       3       4       4       2       2       2   \n",
       "4          1      1      2       1       4       1       2       1       2   \n",
       "...      ...    ...    ...     ...     ...     ...     ...     ...     ...   \n",
       "48787      2      2      4       1       4       3       2       4       4   \n",
       "48788      1      2      2       3       3       2       4       4       4   \n",
       "48789      4      2      1       3       1       4       2       4       2   \n",
       "48790      3      4      3       1       1       3       3       2       4   \n",
       "48791      4      2      4       4       4       4       2       1       1   \n",
       "\n",
       "       resp22  classificacao  classificacao1  \n",
       "0           2              1               1  \n",
       "1           1              1               1  \n",
       "2           2              1               4  \n",
       "3           2              1               2  \n",
       "4           1              1               1  \n",
       "...       ...            ...             ...  \n",
       "48787       4              4               4  \n",
       "48788       4              4               4  \n",
       "48789       2              4               2  \n",
       "48790       4              4               3  \n",
       "48791       2              4               4  \n",
       "\n",
       "[48792 rows x 12 columns]"
      ]
     },
     "execution_count": 394,
     "metadata": {},
     "output_type": "execute_result"
    }
   ],
   "source": [
    "resultQuest = {}\n",
    "classification = []\n",
    "for i in range(0,len(dadosFS)):\n",
    "    quest = list(dadosFS.iloc[i,:])\n",
    "    \n",
    "    resultQuest[1] = quest.count(1)*4\n",
    "    resultQuest[2] = quest.count(2)*4\n",
    "    resultQuest[3] = quest.count(3)*4\n",
    "    resultQuest[4] = quest.count(4)*4\n",
    "    \n",
    "    classification.append(max(resultQuest.items(), key=operator.itemgetter(1))[0])\n",
    "dadosFS['classificacao1'] = classification\n",
    "dadosFS"
   ]
  },
  {
   "cell_type": "code",
   "execution_count": 393,
   "metadata": {},
   "outputs": [
    {
     "data": {
      "text/plain": [
       "73.33784226922447"
      ]
     },
     "execution_count": 393,
     "metadata": {},
     "output_type": "execute_result"
    }
   ],
   "source": [
    "(len(dadosFS[dadosFS['classificacao'] != dadosFS['classificacao1']]) / len(dadosFS) - 1)*-100"
   ]
  },
  {
   "cell_type": "code",
   "execution_count": null,
   "metadata": {},
   "outputs": [],
   "source": []
  }
 ],
 "metadata": {
  "kernelspec": {
   "display_name": "Python 3",
   "language": "python",
   "name": "python3"
  },
  "language_info": {
   "codemirror_mode": {
    "name": "ipython",
    "version": 3
   },
   "file_extension": ".py",
   "mimetype": "text/x-python",
   "name": "python",
   "nbconvert_exporter": "python",
   "pygments_lexer": "ipython3",
   "version": "3.7.4"
  }
 },
 "nbformat": 4,
 "nbformat_minor": 2
}
